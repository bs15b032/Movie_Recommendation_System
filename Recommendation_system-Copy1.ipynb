{
 "cells": [
  {
   "cell_type": "code",
   "execution_count": 24,
   "id": "23a0e087",
   "metadata": {},
   "outputs": [],
   "source": [
    "import pandas as pd\n",
    "\n",
    "movies = pd.read_csv(r\"C:\\Users\\vs786\\OneDrive\\Desktop\\DATA\\Assignment Codiis\\ml-latest\\ml-latest\\movies.csv\")"
   ]
  },
  {
   "cell_type": "code",
   "execution_count": 25,
   "id": "168e7c7b",
   "metadata": {},
   "outputs": [
    {
     "data": {
      "text/html": [
       "<div>\n",
       "<style scoped>\n",
       "    .dataframe tbody tr th:only-of-type {\n",
       "        vertical-align: middle;\n",
       "    }\n",
       "\n",
       "    .dataframe tbody tr th {\n",
       "        vertical-align: top;\n",
       "    }\n",
       "\n",
       "    .dataframe thead th {\n",
       "        text-align: right;\n",
       "    }\n",
       "</style>\n",
       "<table border=\"1\" class=\"dataframe\">\n",
       "  <thead>\n",
       "    <tr style=\"text-align: right;\">\n",
       "      <th></th>\n",
       "      <th>movieId</th>\n",
       "      <th>title</th>\n",
       "      <th>genres</th>\n",
       "    </tr>\n",
       "  </thead>\n",
       "  <tbody>\n",
       "    <tr>\n",
       "      <th>0</th>\n",
       "      <td>1</td>\n",
       "      <td>Toy Story (1995)</td>\n",
       "      <td>Adventure|Animation|Children|Comedy|Fantasy</td>\n",
       "    </tr>\n",
       "    <tr>\n",
       "      <th>1</th>\n",
       "      <td>2</td>\n",
       "      <td>Jumanji (1995)</td>\n",
       "      <td>Adventure|Children|Fantasy</td>\n",
       "    </tr>\n",
       "    <tr>\n",
       "      <th>2</th>\n",
       "      <td>3</td>\n",
       "      <td>Grumpier Old Men (1995)</td>\n",
       "      <td>Comedy|Romance</td>\n",
       "    </tr>\n",
       "    <tr>\n",
       "      <th>3</th>\n",
       "      <td>4</td>\n",
       "      <td>Waiting to Exhale (1995)</td>\n",
       "      <td>Comedy|Drama|Romance</td>\n",
       "    </tr>\n",
       "    <tr>\n",
       "      <th>4</th>\n",
       "      <td>5</td>\n",
       "      <td>Father of the Bride Part II (1995)</td>\n",
       "      <td>Comedy</td>\n",
       "    </tr>\n",
       "  </tbody>\n",
       "</table>\n",
       "</div>"
      ],
      "text/plain": [
       "   movieId                               title  \\\n",
       "0        1                    Toy Story (1995)   \n",
       "1        2                      Jumanji (1995)   \n",
       "2        3             Grumpier Old Men (1995)   \n",
       "3        4            Waiting to Exhale (1995)   \n",
       "4        5  Father of the Bride Part II (1995)   \n",
       "\n",
       "                                        genres  \n",
       "0  Adventure|Animation|Children|Comedy|Fantasy  \n",
       "1                   Adventure|Children|Fantasy  \n",
       "2                               Comedy|Romance  \n",
       "3                         Comedy|Drama|Romance  \n",
       "4                                       Comedy  "
      ]
     },
     "execution_count": 25,
     "metadata": {},
     "output_type": "execute_result"
    }
   ],
   "source": [
    "movies.head()"
   ]
  },
  {
   "cell_type": "code",
   "execution_count": 26,
   "id": "3ba196cf",
   "metadata": {},
   "outputs": [],
   "source": [
    "import re #Cleaning Movies title with REGEX\n",
    "def CT(title):\n",
    "    title=re.sub(\"[^a-zA-Z0-9]\",\"\",title) #structured title by removing extra format \n",
    "    return title"
   ]
  },
  {
   "cell_type": "code",
   "execution_count": 27,
   "id": "56979531",
   "metadata": {},
   "outputs": [],
   "source": [
    " #Creating a new culomn clean title (CT) by assigning the value from function CT\n",
    "movies[\"CT\"]=movies[\"title\"].apply(CT)"
   ]
  },
  {
   "cell_type": "code",
   "execution_count": 28,
   "id": "11a45cc7",
   "metadata": {},
   "outputs": [
    {
     "data": {
      "text/html": [
       "<div>\n",
       "<style scoped>\n",
       "    .dataframe tbody tr th:only-of-type {\n",
       "        vertical-align: middle;\n",
       "    }\n",
       "\n",
       "    .dataframe tbody tr th {\n",
       "        vertical-align: top;\n",
       "    }\n",
       "\n",
       "    .dataframe thead th {\n",
       "        text-align: right;\n",
       "    }\n",
       "</style>\n",
       "<table border=\"1\" class=\"dataframe\">\n",
       "  <thead>\n",
       "    <tr style=\"text-align: right;\">\n",
       "      <th></th>\n",
       "      <th>movieId</th>\n",
       "      <th>title</th>\n",
       "      <th>genres</th>\n",
       "      <th>CT</th>\n",
       "    </tr>\n",
       "  </thead>\n",
       "  <tbody>\n",
       "    <tr>\n",
       "      <th>0</th>\n",
       "      <td>1</td>\n",
       "      <td>Toy Story (1995)</td>\n",
       "      <td>Adventure|Animation|Children|Comedy|Fantasy</td>\n",
       "      <td>ToyStory1995</td>\n",
       "    </tr>\n",
       "    <tr>\n",
       "      <th>1</th>\n",
       "      <td>2</td>\n",
       "      <td>Jumanji (1995)</td>\n",
       "      <td>Adventure|Children|Fantasy</td>\n",
       "      <td>Jumanji1995</td>\n",
       "    </tr>\n",
       "    <tr>\n",
       "      <th>2</th>\n",
       "      <td>3</td>\n",
       "      <td>Grumpier Old Men (1995)</td>\n",
       "      <td>Comedy|Romance</td>\n",
       "      <td>GrumpierOldMen1995</td>\n",
       "    </tr>\n",
       "    <tr>\n",
       "      <th>3</th>\n",
       "      <td>4</td>\n",
       "      <td>Waiting to Exhale (1995)</td>\n",
       "      <td>Comedy|Drama|Romance</td>\n",
       "      <td>WaitingtoExhale1995</td>\n",
       "    </tr>\n",
       "    <tr>\n",
       "      <th>4</th>\n",
       "      <td>5</td>\n",
       "      <td>Father of the Bride Part II (1995)</td>\n",
       "      <td>Comedy</td>\n",
       "      <td>FatheroftheBridePartII1995</td>\n",
       "    </tr>\n",
       "    <tr>\n",
       "      <th>...</th>\n",
       "      <td>...</td>\n",
       "      <td>...</td>\n",
       "      <td>...</td>\n",
       "      <td>...</td>\n",
       "    </tr>\n",
       "    <tr>\n",
       "      <th>58093</th>\n",
       "      <td>193876</td>\n",
       "      <td>The Great Glinka (1946)</td>\n",
       "      <td>(no genres listed)</td>\n",
       "      <td>TheGreatGlinka1946</td>\n",
       "    </tr>\n",
       "    <tr>\n",
       "      <th>58094</th>\n",
       "      <td>193878</td>\n",
       "      <td>Les tribulations d'une caissière (2011)</td>\n",
       "      <td>Comedy</td>\n",
       "      <td>Lestribulationsdunecaissire2011</td>\n",
       "    </tr>\n",
       "    <tr>\n",
       "      <th>58095</th>\n",
       "      <td>193880</td>\n",
       "      <td>Her Name Was Mumu (2016)</td>\n",
       "      <td>Drama</td>\n",
       "      <td>HerNameWasMumu2016</td>\n",
       "    </tr>\n",
       "    <tr>\n",
       "      <th>58096</th>\n",
       "      <td>193882</td>\n",
       "      <td>Flora (2017)</td>\n",
       "      <td>Adventure|Drama|Horror|Sci-Fi</td>\n",
       "      <td>Flora2017</td>\n",
       "    </tr>\n",
       "    <tr>\n",
       "      <th>58097</th>\n",
       "      <td>193886</td>\n",
       "      <td>Leal (2018)</td>\n",
       "      <td>Action|Crime|Drama</td>\n",
       "      <td>Leal2018</td>\n",
       "    </tr>\n",
       "  </tbody>\n",
       "</table>\n",
       "<p>58098 rows × 4 columns</p>\n",
       "</div>"
      ],
      "text/plain": [
       "       movieId                                    title  \\\n",
       "0            1                         Toy Story (1995)   \n",
       "1            2                           Jumanji (1995)   \n",
       "2            3                  Grumpier Old Men (1995)   \n",
       "3            4                 Waiting to Exhale (1995)   \n",
       "4            5       Father of the Bride Part II (1995)   \n",
       "...        ...                                      ...   \n",
       "58093   193876                  The Great Glinka (1946)   \n",
       "58094   193878  Les tribulations d'une caissière (2011)   \n",
       "58095   193880                 Her Name Was Mumu (2016)   \n",
       "58096   193882                             Flora (2017)   \n",
       "58097   193886                              Leal (2018)   \n",
       "\n",
       "                                            genres  \\\n",
       "0      Adventure|Animation|Children|Comedy|Fantasy   \n",
       "1                       Adventure|Children|Fantasy   \n",
       "2                                   Comedy|Romance   \n",
       "3                             Comedy|Drama|Romance   \n",
       "4                                           Comedy   \n",
       "...                                            ...   \n",
       "58093                           (no genres listed)   \n",
       "58094                                       Comedy   \n",
       "58095                                        Drama   \n",
       "58096                Adventure|Drama|Horror|Sci-Fi   \n",
       "58097                           Action|Crime|Drama   \n",
       "\n",
       "                                    CT  \n",
       "0                         ToyStory1995  \n",
       "1                          Jumanji1995  \n",
       "2                   GrumpierOldMen1995  \n",
       "3                  WaitingtoExhale1995  \n",
       "4           FatheroftheBridePartII1995  \n",
       "...                                ...  \n",
       "58093               TheGreatGlinka1946  \n",
       "58094  Lestribulationsdunecaissire2011  \n",
       "58095               HerNameWasMumu2016  \n",
       "58096                        Flora2017  \n",
       "58097                         Leal2018  \n",
       "\n",
       "[58098 rows x 4 columns]"
      ]
     },
     "execution_count": 28,
     "metadata": {},
     "output_type": "execute_result"
    }
   ],
   "source": [
    "movies"
   ]
  },
  {
   "cell_type": "code",
   "execution_count": 29,
   "id": "3fc06ab9",
   "metadata": {},
   "outputs": [],
   "source": [
    "#Creating a TFIDF Matrix\n",
    "#As we know computer understand data in numeric format so here we converted data in numeric form\n",
    "#ML Libraries\n",
    "from sklearn.feature_extraction.text import TfidfVectorizer  \n",
    "#Instead of looking 1 individual words its look for 2 consecutive words\n",
    "vectorizer = TfidfVectorizer(ngram_range=(1,2)) \n",
    "#Turns set of titles into set of numbers\n",
    "tfidf = vectorizer.fit_transform(movies[\"CT\"])"
   ]
  },
  {
   "cell_type": "code",
   "execution_count": 30,
   "id": "bda0e9a7",
   "metadata": {},
   "outputs": [],
   "source": [
    "#Creating a serach function\n",
    "#\n",
    "from sklearn.metrics.pairwise import cosine_similarity \n",
    "import numpy as np\n",
    "\n",
    "def search(title):\n",
    "    #Clean the title\n",
    "    title = CT(title)\n",
    "    #Turn the query terms into a set of numbers\n",
    "    query_vec = vectorizer.transform([title])\n",
    "    #cosine_similarity:compare the query terms to each of the titles(clean titles) that we have in dataset\n",
    "                      #and returns how similar our title is to each of those titles in dataset\n",
    "    similarity = cosine_similarity(query_vec, tfidf).flatten()\n",
    "    #Indices returns 5 most similar titles through query term\n",
    "    indices = np.argpartition(similarity, -5)[-5:]\n",
    "    #index movie data by these indices\n",
    "    results = movies.iloc[indices].iloc[::-1] #Reverse the result\n",
    "    \n",
    "    return results"
   ]
  },
  {
   "cell_type": "code",
   "execution_count": 31,
   "id": "9c42f3d4",
   "metadata": {},
   "outputs": [
    {
     "data": {
      "application/vnd.jupyter.widget-view+json": {
       "model_id": "76f47877484a4edd973d86edd043c698",
       "version_major": 2,
       "version_minor": 0
      },
      "text/plain": [
       "Text(value=' ', description='Movie Title:')"
      ]
     },
     "metadata": {},
     "output_type": "display_data"
    },
    {
     "data": {
      "application/vnd.jupyter.widget-view+json": {
       "model_id": "5b2372f33f024ee697d83085eb47f9de",
       "version_major": 2,
       "version_minor": 0
      },
      "text/plain": [
       "Output()"
      ]
     },
     "metadata": {},
     "output_type": "display_data"
    }
   ],
   "source": [
    "#Search box with jupyter\n",
    "import ipywidgets as widgets\n",
    "from IPython.display import display\n",
    "\n",
    "#Taking input here\n",
    "movie_input = widgets.Text(\n",
    "    value=' ',\n",
    "    description='Movie Title:',\n",
    "    disabled=False\n",
    ")\n",
    "#output widgets\n",
    "movie_list = widgets.Output()\n",
    "#this function is going to be called whenever we type something in search box\n",
    "def on_type(data):\n",
    "    with movie_list:\n",
    "        movie_list.clear_output()\n",
    "        title = data[\"new\"]\n",
    "        if len(title) > 5:\n",
    "            display(search(title))\n",
    "\n",
    "movie_input.observe(on_type, names='value')\n",
    "\n",
    "\n",
    "display(movie_input, movie_list)"
   ]
  },
  {
   "cell_type": "code",
   "execution_count": 32,
   "id": "8886f349",
   "metadata": {},
   "outputs": [],
   "source": [
    "movie_id= 89745\n",
    "movie=movies[movies[\"movieId\"]==movie_id]"
   ]
  },
  {
   "cell_type": "code",
   "execution_count": 33,
   "id": "ec487ca0",
   "metadata": {},
   "outputs": [],
   "source": [
    "ratings=pd.read_csv(r\"C:\\Users\\vs786\\OneDrive\\Desktop\\DATA\\Assignment Codiis\\ml-latest\\ml-latest\\ratings.csv\")"
   ]
  },
  {
   "cell_type": "code",
   "execution_count": 34,
   "id": "94f5ac77",
   "metadata": {},
   "outputs": [],
   "source": [
    "#Finding Users who liked the same movies\n",
    "similar_users = ratings[(ratings[\"movieId\"] == movie_id) & (ratings[\"rating\"] > 4)][\"userId\"].unique()\n"
   ]
  },
  {
   "cell_type": "code",
   "execution_count": 35,
   "id": "1f6512a2",
   "metadata": {},
   "outputs": [],
   "source": [
    "#Find the other movies they(similar_users) liked\n",
    "similar_user_recs = ratings[(ratings[\"userId\"].isin(similar_users)) & (ratings[\"rating\"] > 4)][\"movieId\"]"
   ]
  },
  {
   "cell_type": "code",
   "execution_count": 36,
   "id": "9f6b0850",
   "metadata": {},
   "outputs": [],
   "source": [
    "#Converting into percentage\n",
    "similar_user_recs = similar_user_recs.value_counts() / len(similar_users)\n",
    "#Only consider those movies which has greater than 10% likes\n",
    "similar_user_recs = similar_user_recs[similar_user_recs > .10]"
   ]
  },
  {
   "cell_type": "code",
   "execution_count": 37,
   "id": "55a176e3",
   "metadata": {},
   "outputs": [],
   "source": [
    "#It finds what percentage of just regular people outside of the set of people similar to us\n",
    "all_users = ratings[(ratings[\"movieId\"].isin(similar_user_recs.index)) & (ratings[\"rating\"] > 4)]"
   ]
  },
  {
   "cell_type": "code",
   "execution_count": 38,
   "id": "9efee32b",
   "metadata": {},
   "outputs": [],
   "source": [
    "#Percentage of all users who recommended these movies that are in similar_user_rec\n",
    "all_user_recs = all_users[\"movieId\"].value_counts() / len(all_users[\"userId\"].unique())\n"
   ]
  },
  {
   "cell_type": "code",
   "execution_count": 39,
   "id": "9234fe5d",
   "metadata": {},
   "outputs": [],
   "source": [
    "#Combinig two series, Compare the percentages\n",
    "rec_percentages = pd.concat([similar_user_recs, all_user_recs], axis=1)\n",
    "rec_percentages.columns = [\"similar\", \"all\"]"
   ]
  },
  {
   "cell_type": "code",
   "execution_count": 40,
   "id": "2c2aa20b",
   "metadata": {},
   "outputs": [],
   "source": [
    "#Creating a recommendation score,\n",
    "rec_percentages[\"score\"] = rec_percentages[\"similar\"] / rec_percentages[\"all\"]\n"
   ]
  },
  {
   "cell_type": "code",
   "execution_count": 41,
   "id": "c0abb035",
   "metadata": {},
   "outputs": [],
   "source": [
    "rec_percentages = rec_percentages.sort_values(\"score\", ascending=False)\n"
   ]
  },
  {
   "cell_type": "code",
   "execution_count": 42,
   "id": "2eb52d28",
   "metadata": {},
   "outputs": [
    {
     "data": {
      "text/html": [
       "<div>\n",
       "<style scoped>\n",
       "    .dataframe tbody tr th:only-of-type {\n",
       "        vertical-align: middle;\n",
       "    }\n",
       "\n",
       "    .dataframe tbody tr th {\n",
       "        vertical-align: top;\n",
       "    }\n",
       "\n",
       "    .dataframe thead th {\n",
       "        text-align: right;\n",
       "    }\n",
       "</style>\n",
       "<table border=\"1\" class=\"dataframe\">\n",
       "  <thead>\n",
       "    <tr style=\"text-align: right;\">\n",
       "      <th></th>\n",
       "      <th>similar</th>\n",
       "      <th>all</th>\n",
       "      <th>score</th>\n",
       "      <th>movieId</th>\n",
       "      <th>title</th>\n",
       "      <th>genres</th>\n",
       "      <th>CT</th>\n",
       "    </tr>\n",
       "  </thead>\n",
       "  <tbody>\n",
       "    <tr>\n",
       "      <th>17997</th>\n",
       "      <td>1.000000</td>\n",
       "      <td>0.030533</td>\n",
       "      <td>32.751846</td>\n",
       "      <td>89745</td>\n",
       "      <td>Avengers, The (2012)</td>\n",
       "      <td>Action|Adventure|Sci-Fi|IMAX</td>\n",
       "      <td>AvengersThe2012</td>\n",
       "    </tr>\n",
       "    <tr>\n",
       "      <th>22251</th>\n",
       "      <td>0.101926</td>\n",
       "      <td>0.003921</td>\n",
       "      <td>25.996778</td>\n",
       "      <td>106072</td>\n",
       "      <td>Thor: The Dark World (2013)</td>\n",
       "      <td>Action|Adventure|Fantasy|IMAX</td>\n",
       "      <td>ThorTheDarkWorld2013</td>\n",
       "    </tr>\n",
       "    <tr>\n",
       "      <th>27550</th>\n",
       "      <td>0.223756</td>\n",
       "      <td>0.008910</td>\n",
       "      <td>25.113352</td>\n",
       "      <td>122892</td>\n",
       "      <td>Avengers: Age of Ultron (2015)</td>\n",
       "      <td>Action|Adventure|Sci-Fi</td>\n",
       "      <td>AvengersAgeofUltron2015</td>\n",
       "    </tr>\n",
       "    <tr>\n",
       "      <th>21101</th>\n",
       "      <td>0.211075</td>\n",
       "      <td>0.008983</td>\n",
       "      <td>23.496278</td>\n",
       "      <td>102125</td>\n",
       "      <td>Iron Man 3 (2013)</td>\n",
       "      <td>Action|Sci-Fi|Thriller|IMAX</td>\n",
       "      <td>IronMan32013</td>\n",
       "    </tr>\n",
       "    <tr>\n",
       "      <th>17615</th>\n",
       "      <td>0.202408</td>\n",
       "      <td>0.008684</td>\n",
       "      <td>23.307042</td>\n",
       "      <td>88140</td>\n",
       "      <td>Captain America: The First Avenger (2011)</td>\n",
       "      <td>Action|Adventure|Sci-Fi|Thriller|War</td>\n",
       "      <td>CaptainAmericaTheFirstAvenger2011</td>\n",
       "    </tr>\n",
       "    <tr>\n",
       "      <th>23452</th>\n",
       "      <td>0.265008</td>\n",
       "      <td>0.011679</td>\n",
       "      <td>22.691270</td>\n",
       "      <td>110102</td>\n",
       "      <td>Captain America: The Winter Soldier (2014)</td>\n",
       "      <td>Action|Adventure|Sci-Fi|IMAX</td>\n",
       "      <td>CaptainAmericaTheWinterSoldier2014</td>\n",
       "    </tr>\n",
       "    <tr>\n",
       "      <th>17138</th>\n",
       "      <td>0.168379</td>\n",
       "      <td>0.007523</td>\n",
       "      <td>22.382206</td>\n",
       "      <td>86332</td>\n",
       "      <td>Thor (2011)</td>\n",
       "      <td>Action|Adventure|Drama|Fantasy|IMAX</td>\n",
       "      <td>Thor2011</td>\n",
       "    </tr>\n",
       "    <tr>\n",
       "      <th>27562</th>\n",
       "      <td>0.176404</td>\n",
       "      <td>0.008317</td>\n",
       "      <td>21.210535</td>\n",
       "      <td>122920</td>\n",
       "      <td>Captain America: Civil War (2016)</td>\n",
       "      <td>Action|Sci-Fi|Thriller</td>\n",
       "      <td>CaptainAmericaCivilWar2016</td>\n",
       "    </tr>\n",
       "    <tr>\n",
       "      <th>27554</th>\n",
       "      <td>0.120064</td>\n",
       "      <td>0.005915</td>\n",
       "      <td>20.296919</td>\n",
       "      <td>122900</td>\n",
       "      <td>Ant-Man (2015)</td>\n",
       "      <td>Action|Adventure|Sci-Fi</td>\n",
       "      <td>AntMan2015</td>\n",
       "    </tr>\n",
       "    <tr>\n",
       "      <th>15271</th>\n",
       "      <td>0.233387</td>\n",
       "      <td>0.011669</td>\n",
       "      <td>20.000497</td>\n",
       "      <td>77561</td>\n",
       "      <td>Iron Man 2 (2010)</td>\n",
       "      <td>Action|Adventure|Sci-Fi|Thriller|IMAX</td>\n",
       "      <td>IronMan22010</td>\n",
       "    </tr>\n",
       "  </tbody>\n",
       "</table>\n",
       "</div>"
      ],
      "text/plain": [
       "        similar       all      score  movieId  \\\n",
       "17997  1.000000  0.030533  32.751846    89745   \n",
       "22251  0.101926  0.003921  25.996778   106072   \n",
       "27550  0.223756  0.008910  25.113352   122892   \n",
       "21101  0.211075  0.008983  23.496278   102125   \n",
       "17615  0.202408  0.008684  23.307042    88140   \n",
       "23452  0.265008  0.011679  22.691270   110102   \n",
       "17138  0.168379  0.007523  22.382206    86332   \n",
       "27562  0.176404  0.008317  21.210535   122920   \n",
       "27554  0.120064  0.005915  20.296919   122900   \n",
       "15271  0.233387  0.011669  20.000497    77561   \n",
       "\n",
       "                                            title  \\\n",
       "17997                        Avengers, The (2012)   \n",
       "22251                 Thor: The Dark World (2013)   \n",
       "27550              Avengers: Age of Ultron (2015)   \n",
       "21101                           Iron Man 3 (2013)   \n",
       "17615   Captain America: The First Avenger (2011)   \n",
       "23452  Captain America: The Winter Soldier (2014)   \n",
       "17138                                 Thor (2011)   \n",
       "27562           Captain America: Civil War (2016)   \n",
       "27554                              Ant-Man (2015)   \n",
       "15271                           Iron Man 2 (2010)   \n",
       "\n",
       "                                      genres  \\\n",
       "17997           Action|Adventure|Sci-Fi|IMAX   \n",
       "22251          Action|Adventure|Fantasy|IMAX   \n",
       "27550                Action|Adventure|Sci-Fi   \n",
       "21101            Action|Sci-Fi|Thriller|IMAX   \n",
       "17615   Action|Adventure|Sci-Fi|Thriller|War   \n",
       "23452           Action|Adventure|Sci-Fi|IMAX   \n",
       "17138    Action|Adventure|Drama|Fantasy|IMAX   \n",
       "27562                 Action|Sci-Fi|Thriller   \n",
       "27554                Action|Adventure|Sci-Fi   \n",
       "15271  Action|Adventure|Sci-Fi|Thriller|IMAX   \n",
       "\n",
       "                                       CT  \n",
       "17997                     AvengersThe2012  \n",
       "22251                ThorTheDarkWorld2013  \n",
       "27550             AvengersAgeofUltron2015  \n",
       "21101                        IronMan32013  \n",
       "17615   CaptainAmericaTheFirstAvenger2011  \n",
       "23452  CaptainAmericaTheWinterSoldier2014  \n",
       "17138                            Thor2011  \n",
       "27562          CaptainAmericaCivilWar2016  \n",
       "27554                          AntMan2015  \n",
       "15271                        IronMan22010  "
      ]
     },
     "execution_count": 42,
     "metadata": {},
     "output_type": "execute_result"
    }
   ],
   "source": [
    "rec_percentages.head(10).merge(movies, left_index=True, right_on=\"movieId\")\n"
   ]
  },
  {
   "cell_type": "code",
   "execution_count": 43,
   "id": "ae99f18c",
   "metadata": {},
   "outputs": [],
   "source": [
    "def find_similar_movies(movie_id):\n",
    "    similar_users = ratings[(ratings[\"movieId\"] == movie_id) & (ratings[\"rating\"] > 4)][\"userId\"].unique()\n",
    "    similar_user_recs = ratings[(ratings[\"userId\"].isin(similar_users)) & (ratings[\"rating\"] > 4)][\"movieId\"]\n",
    "    similar_user_recs = similar_user_recs.value_counts() / len(similar_users)\n",
    "\n",
    "    similar_user_recs = similar_user_recs[similar_user_recs > .10]\n",
    "    all_users = ratings[(ratings[\"movieId\"].isin(similar_user_recs.index)) & (ratings[\"rating\"] > 4)]\n",
    "    all_user_recs = all_users[\"movieId\"].value_counts() / len(all_users[\"userId\"].unique())\n",
    "    rec_percentages = pd.concat([similar_user_recs, all_user_recs], axis=1)\n",
    "    rec_percentages.columns = [\"similar\", \"all\"]\n",
    "    \n",
    "    rec_percentages[\"score\"] = rec_percentages[\"similar\"] / rec_percentages[\"all\"]\n",
    "    rec_percentages = rec_percentages.sort_values(\"score\", ascending=False)\n",
    "    return rec_percentages.head(10).merge(movies, left_index=True, right_on=\"movieId\")[[\"score\", \"title\", \"genres\"]]\n"
   ]
  },
  {
   "cell_type": "code",
   "execution_count": 47,
   "id": "28dc9821",
   "metadata": {},
   "outputs": [
    {
     "data": {
      "application/vnd.jupyter.widget-view+json": {
       "model_id": "a6492d756f1648c08de87b23942757ae",
       "version_major": 2,
       "version_minor": 0
      },
      "text/plain": [
       "Text(value=' ', description='Movie Title:')"
      ]
     },
     "metadata": {},
     "output_type": "display_data"
    },
    {
     "data": {
      "application/vnd.jupyter.widget-view+json": {
       "model_id": "474f46d2d9db48c09ce2a3363c65c5a8",
       "version_major": 2,
       "version_minor": 0
      },
      "text/plain": [
       "Output()"
      ]
     },
     "metadata": {},
     "output_type": "display_data"
    }
   ],
   "source": [
    "import ipywidgets as widgets\n",
    "from IPython.display import display\n",
    "\n",
    "movie_name_input = widgets.Text(\n",
    "    value=' ',\n",
    "    description='Movie Title:',\n",
    "    disabled=False\n",
    ")\n",
    "recommendation_list = widgets.Output()\n",
    "\n",
    "def on_type(data):\n",
    "    with recommendation_list:\n",
    "        recommendation_list.clear_output()\n",
    "        title = data[\"new\"]\n",
    "        if len(title) > 5:\n",
    "            results = search(title)\n",
    "            movie_id = results.iloc[0][\"movieId\"]\n",
    "            display(find_similar_movies(movie_id))\n",
    "\n",
    "movie_name_input.observe(on_type, names='value')\n",
    "\n",
    "display(movie_name_input, recommendation_list)"
   ]
  },
  {
   "cell_type": "code",
   "execution_count": null,
   "id": "ff6392f2",
   "metadata": {},
   "outputs": [],
   "source": []
  },
  {
   "cell_type": "code",
   "execution_count": null,
   "id": "7ffe2dd0",
   "metadata": {},
   "outputs": [],
   "source": []
  },
  {
   "cell_type": "code",
   "execution_count": null,
   "id": "7adc21eb",
   "metadata": {},
   "outputs": [],
   "source": []
  }
 ],
 "metadata": {
  "kernelspec": {
   "display_name": "Python 3 (ipykernel)",
   "language": "python",
   "name": "python3"
  },
  "language_info": {
   "codemirror_mode": {
    "name": "ipython",
    "version": 3
   },
   "file_extension": ".py",
   "mimetype": "text/x-python",
   "name": "python",
   "nbconvert_exporter": "python",
   "pygments_lexer": "ipython3",
   "version": "3.9.7"
  }
 },
 "nbformat": 4,
 "nbformat_minor": 5
}
